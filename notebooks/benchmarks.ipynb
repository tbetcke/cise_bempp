{
 "cells": [
  {
   "cell_type": "markdown",
   "id": "fancy-confidence",
   "metadata": {},
   "source": [
    "# Benchmark experiments"
   ]
  },
  {
   "cell_type": "markdown",
   "id": "adjusted-collapse",
   "metadata": {},
   "source": [
    "### Benchmarking the assembly of a Laplace single layer operator"
   ]
  },
  {
   "cell_type": "markdown",
   "id": "animal-yemen",
   "metadata": {},
   "source": [
    "In our first experiment we benchmark the assembly of a Laplace single layer boundary operator."
   ]
  },
  {
   "cell_type": "code",
   "execution_count": 16,
   "id": "refined-prospect",
   "metadata": {},
   "outputs": [],
   "source": [
    "%matplotlib inline\n",
    "from matplotlib import pyplot as plt\n",
    "import bempp.api\n",
    "import numpy as np"
   ]
  },
  {
   "cell_type": "code",
   "execution_count": 17,
   "id": "interracial-alexander",
   "metadata": {},
   "outputs": [],
   "source": [
    "from bempp.core.opencl_kernels import default_device, set_default_cpu_device_by_name, set_default_gpu_device_by_name, default_cpu_device, default_gpu_device\n",
    "\n",
    "def run_single_layer_benchmark():\n",
    "    \"\"\"Benchmark the single layer operator.\"\"\"\n",
    "    grid_sizes = [3, 4, 5, 6]\n",
    "    nelements = []\n",
    "    results = {}\n",
    "    results[(\"P0\", \"single\")] = []\n",
    "    results[(\"P0\", \"double\")] = []\n",
    "    results[(\"P1\", \"single\")] = []\n",
    "    results[(\"P1\", \"double\")] = []\n",
    "    results[\"nelements\"] = []\n",
    "    \n",
    "    print(f\"Default Device: {default_device().name}\")\n",
    "\n",
    "\n",
    "    for grid_size in grid_sizes:\n",
    "        grid = bempp.api.shapes.regular_sphere(grid_size)\n",
    "        p0_space = bempp.api.function_space(grid, \"DP\", 0)\n",
    "        p1_space = bempp.api.function_space(grid, \"P\", 1)\n",
    "        print(f\"Run tests for grid size parameter {grid_size}\")\n",
    "        result_p0_single = %timeit -o -r 2 -n 2 bempp.api.operators.boundary.laplace.single_layer(p0_space, p0_space, p0_space, precision=\"single\").weak_form()\n",
    "        result_p1_single = %timeit -o -r 2 -n 2 bempp.api.operators.boundary.laplace.single_layer(p1_space, p1_space, p1_space, precision=\"single\").weak_form()\n",
    "        result_p0_double = %timeit -o -r 2 -n 2 bempp.api.operators.boundary.laplace.single_layer(p0_space, p0_space, p0_space, precision=\"double\").weak_form()\n",
    "        result_p1_double = %timeit -o -r 2 -n 2 bempp.api.operators.boundary.laplace.single_layer(p1_space, p1_space, p1_space, precision=\"double\").weak_form()\n",
    "        results[(\"P0\", \"single\")].append(result_p0_single.best)\n",
    "        results[(\"P0\", \"double\")].append(result_p0_double.best)\n",
    "        results[(\"P1\", \"single\")].append(result_p1_single.best)\n",
    "        results[(\"P1\", \"double\")].append(result_p1_double.best)\n",
    "        results[\"nelements\"].append(grid.number_of_elements)\n",
    "        \n",
    "    return results"
   ]
  },
  {
   "cell_type": "markdown",
   "id": "pharmaceutical-edward",
   "metadata": {},
   "source": [
    "# Tests for single layer assembly"
   ]
  },
  {
   "cell_type": "code",
   "execution_count": 18,
   "id": "assured-adult",
   "metadata": {},
   "outputs": [
    {
     "name": "stdout",
     "output_type": "stream",
     "text": [
      "Default Device: pthread-Intel(R) Core(TM) i9-9980HK CPU @ 2.40GHz\n",
      "Run tests for grid size parameter 3\n",
      "31.7 ms ± 4.03 ms per loop (mean ± std. dev. of 2 runs, 2 loops each)\n",
      "54.5 ms ± 3.67 ms per loop (mean ± std. dev. of 2 runs, 2 loops each)\n",
      "33 ms ± 1.07 ms per loop (mean ± std. dev. of 2 runs, 2 loops each)\n",
      "54.8 ms ± 1.11 ms per loop (mean ± std. dev. of 2 runs, 2 loops each)\n",
      "Run tests for grid size parameter 4\n",
      "55.3 ms ± 5 ms per loop (mean ± std. dev. of 2 runs, 2 loops each)\n",
      "122 ms ± 12.7 ms per loop (mean ± std. dev. of 2 runs, 2 loops each)\n",
      "80 ms ± 1.56 ms per loop (mean ± std. dev. of 2 runs, 2 loops each)\n",
      "142 ms ± 449 µs per loop (mean ± std. dev. of 2 runs, 2 loops each)\n",
      "Run tests for grid size parameter 5\n",
      "358 ms ± 21.3 ms per loop (mean ± std. dev. of 2 runs, 2 loops each)\n",
      "820 ms ± 43.5 ms per loop (mean ± std. dev. of 2 runs, 2 loops each)\n",
      "663 ms ± 2.41 ms per loop (mean ± std. dev. of 2 runs, 2 loops each)\n",
      "1.38 s ± 5.54 ms per loop (mean ± std. dev. of 2 runs, 2 loops each)\n",
      "Run tests for grid size parameter 6\n",
      "4.32 s ± 112 ms per loop (mean ± std. dev. of 2 runs, 2 loops each)\n",
      "14 s ± 146 ms per loop (mean ± std. dev. of 2 runs, 2 loops each)\n",
      "9.65 s ± 32.4 ms per loop (mean ± std. dev. of 2 runs, 2 loops each)\n",
      "23.1 s ± 8.86 ms per loop (mean ± std. dev. of 2 runs, 2 loops each)\n",
      "Default Device: Intel(R) Core(TM) i9-9980HK CPU @ 2.40GHz\n",
      "Run tests for grid size parameter 3\n"
     ]
    },
    {
     "name": "stderr",
     "output_type": "stream",
     "text": [
      "/home/betcke/miniconda3/envs/dev/lib/python3.9/site-packages/pyopencl/__init__.py:266: CompilerWarning: Non-empty compiler output encountered. Set the environment variable PYOPENCL_COMPILER_OUTPUT=1 to see more.\n",
      "  warn(\"Non-empty compiler output encountered. Set the \"\n"
     ]
    },
    {
     "name": "stdout",
     "output_type": "stream",
     "text": [
      "52.7 ms ± 4.37 ms per loop (mean ± std. dev. of 2 runs, 2 loops each)\n",
      "74.8 ms ± 2.09 ms per loop (mean ± std. dev. of 2 runs, 2 loops each)\n",
      "48.9 ms ± 200 µs per loop (mean ± std. dev. of 2 runs, 2 loops each)\n",
      "69.9 ms ± 933 µs per loop (mean ± std. dev. of 2 runs, 2 loops each)\n",
      "Run tests for grid size parameter 4\n",
      "80.6 ms ± 4.1 ms per loop (mean ± std. dev. of 2 runs, 2 loops each)\n",
      "131 ms ± 11.8 ms per loop (mean ± std. dev. of 2 runs, 2 loops each)\n",
      "108 ms ± 291 µs per loop (mean ± std. dev. of 2 runs, 2 loops each)\n",
      "158 ms ± 515 µs per loop (mean ± std. dev. of 2 runs, 2 loops each)\n",
      "Run tests for grid size parameter 5\n",
      "388 ms ± 21.2 ms per loop (mean ± std. dev. of 2 runs, 2 loops each)\n",
      "698 ms ± 43.4 ms per loop (mean ± std. dev. of 2 runs, 2 loops each)\n",
      "928 ms ± 4.63 ms per loop (mean ± std. dev. of 2 runs, 2 loops each)\n",
      "1.41 s ± 4.26 ms per loop (mean ± std. dev. of 2 runs, 2 loops each)\n",
      "Run tests for grid size parameter 6\n",
      "10.3 s ± 91.1 ms per loop (mean ± std. dev. of 2 runs, 2 loops each)\n",
      "9.04 s ± 87.4 ms per loop (mean ± std. dev. of 2 runs, 2 loops each)\n",
      "25.2 s ± 28.6 ms per loop (mean ± std. dev. of 2 runs, 2 loops each)\n",
      "20.5 s ± 9.66 ms per loop (mean ± std. dev. of 2 runs, 2 loops each)\n"
     ]
    }
   ],
   "source": [
    "bempp.api.BOUNDARY_OPERATOR_DEVICE_TYPE = 'cpu'\n",
    "\n",
    "bempp.core.opencl_kernels.set_default_cpu_device_by_name('Portable Computing Language')\n",
    "results_pocl = run_single_layer_benchmark()\n",
    "\n",
    "bempp.core.opencl_kernels.set_default_cpu_device_by_name('Intel(R) OpenCL')\n",
    "results_intel = run_single_layer_benchmark()"
   ]
  },
  {
   "cell_type": "code",
   "execution_count": 19,
   "id": "danish-cable",
   "metadata": {},
   "outputs": [
    {
     "name": "stdout",
     "output_type": "stream",
     "text": [
      "/usr/share/fonts/truetype/freefont/FreeSans.ttf\n",
      "[512, 2048, 8192, 32768]\n",
      "[0.027629508499899202, 0.050289276000057725, 0.33673725250002917, 4.204409801499992]\n",
      "[0.031962994499963315, 0.07848009299993919, 0.6609641014999852, 9.621752850500002]\n"
     ]
    },
    {
     "data": {
      "image/png": "[encoded data removed]",
      "text/plain": [
       "<Figure size 576x576 with 1 Axes>"
      ]
     },
     "metadata": {
      "needs_background": "light"
     },
     "output_type": "display_data"
    }
   ],
   "source": [
    "from matplotlib import rcParams\n",
    "rcParams['font.family'] = 'sans-serif'\n",
    "rcParams['font.size'] = 22\n",
    "rcParams['font.sans-serif'] = ['FreeSans']\n",
    "from matplotlib.font_manager import findfont, FontProperties\n",
    "font = findfont(FontProperties(family=['sans-serif']))\n",
    "print(font)\n",
    "\n",
    "fig = plt.figure(figsize=(8, 8))\n",
    "ax = fig.add_subplot(111)\n",
    "\n",
    "results = results_pocl\n",
    "\n",
    "basis_type = \"P0\"\n",
    "\n",
    "arrow_length = results[(basis_type, \"double\")][-1] - results[(basis_type, \"single\")][-1]\n",
    "speedup = \"{0:1.1f} x faster\".format(results[(basis_type, \"double\")][-1] / results[(basis_type, \"single\")][-1])\n",
    "\n",
    "plt.loglog(results[\"nelements\"], results[(basis_type, \"single\")], 'k-x', markersize=8)\n",
    "plt.loglog(results[\"nelements\"], results[(basis_type, \"double\")], 'r--x', markersize=8)\n",
    "plt.legend([\"Single Precision\", \"Double Precision\"])\n",
    "plt.arrow(results['nelements'][-1], results[(basis_type, \"single\")][-1], 0, \n",
    "          arrow_length,\n",
    "          linestyle='--', ec=\"blue\", lw=4, head_length=0)\n",
    "plt.annotate(speedup, xy=(8E3, results[(basis_type, \"single\")][-1] + .3 * arrow_length))\n",
    "plt.xlabel('# Elements')\n",
    "plt.ylabel('Time [s]')\n",
    "plt.savefig('pocl_single_layer.pdf', bbox_inches='tight', transparent=True)\n",
    "\n",
    "print(results[\"nelements\"])\n",
    "print(results[(basis_type, \"single\")])\n",
    "print(results[(basis_type, \"double\")])"
   ]
  },
  {
   "cell_type": "markdown",
   "id": "lovely-night",
   "metadata": {},
   "source": [
    "## Draw Histogram chart"
   ]
  },
  {
   "cell_type": "code",
   "execution_count": 20,
   "id": "incorrect-harvest",
   "metadata": {},
   "outputs": [
    {
     "data": {
      "image/png": "[encoded data removed]",
      "text/plain": [
       "<Figure size 576x576 with 2 Axes>"
      ]
     },
     "metadata": {
      "needs_background": "light"
     },
     "output_type": "display_data"
    }
   ],
   "source": [
    "values_p0 = [results_pocl[\"P0\", \"single\"][-1],\n",
    "          results_intel[\"P0\", \"single\"][-1],\n",
    "          results_pocl[\"P0\", \"double\"][-1],\n",
    "          results_intel[\"P0\", \"double\"][-1],\n",
    "         ]\n",
    "\n",
    "values_p1 = [results_pocl[\"P1\", \"single\"][-1],\n",
    "          results_intel[\"P1\", \"single\"][-1],\n",
    "          results_pocl[\"P1\", \"double\"][-1],\n",
    "          results_intel[\"P1\", \"double\"][-1],\n",
    "         ]\n",
    "\n",
    "\n",
    "labels = [\"Pocl (single)\", \"Intel (single)\", \"Pocl (double)\", \"Intel (double)\"]\n",
    "pos = range(4)\n",
    "\n",
    "fig = plt.figure(figsize=(8, 8))\n",
    "ax = fig.add_subplot(211)\n",
    "\n",
    "container = ax.barh(pos, values_p0)\n",
    "\n",
    "container.patches[0].set_facecolor('k')\n",
    "container.patches[2].set_facecolor('k')\n",
    "ax.set_xlabel(\"Time [s]\")\n",
    "ax.set_yticks(pos);\n",
    "ax.set_yticklabels(labels);\n",
    "ax.set_title(\"P0 Basis\")\n",
    "\n",
    "\n",
    "ax = fig.add_subplot(212)\n",
    "container = ax.barh(pos, values_p1)\n",
    "ax.set_xlabel(\"Time [s]\")\n",
    "ax.set_yticks(pos);\n",
    "ax.set_yticklabels(labels);\n",
    "ax.set_title(\"P1 Basis\")\n",
    "plt.subplots_adjust(hspace=.8)\n",
    "\n",
    "container.patches[0].set_facecolor('k')\n",
    "container.patches[2].set_facecolor('k')\n",
    "\n",
    "plt.savefig(\"intel_pocl_laplace_comp.pdf\", bbox_inches='tight', transparent=True);"
   ]
  },
  {
   "cell_type": "markdown",
   "id": "thick-layout",
   "metadata": {},
   "source": [
    "# GPU vs CPU vs Numba for Laplace single-layer"
   ]
  },
  {
   "cell_type": "code",
   "execution_count": 21,
   "id": "occupied-circus",
   "metadata": {},
   "outputs": [],
   "source": [
    "bempp.api.BOUNDARY_OPERATOR_DEVICE_TYPE = 'gpu'\n",
    "\n",
    "def test_single_layer():\n",
    "    \"\"\"Run a single layer benchmark for a specific grid.\"\"\"\n",
    "    \n",
    "    grid = bempp.api.shapes.regular_sphere(4)\n",
    "    p0_space = bempp.api.function_space(grid, \"DP\", 0)\n",
    "    single_time = %timeit -o -r 2 -n 2 bempp.api.operators.boundary.laplace.single_layer(p0_space, p0_space, p0_space, precision=\"single\").weak_form()\n",
    "    double_time = %timeit -o -r 2 -n 2 bempp.api.operators.boundary.laplace.single_layer(p0_space, p0_space, p0_space, precision=\"double\").weak_form()\n",
    "    \n",
    "    return single_time, double_time"
   ]
  },
  {
   "cell_type": "code",
   "execution_count": 22,
   "id": "aquatic-still",
   "metadata": {},
   "outputs": [
    {
     "name": "stdout",
     "output_type": "stream",
     "text": [
      "Run GPU Test\n"
     ]
    },
    {
     "name": "stderr",
     "output_type": "stream",
     "text": [
      "/home/betcke/miniconda3/envs/dev/lib/python3.9/site-packages/pyopencl/__init__.py:266: CompilerWarning: Non-empty compiler output encountered. Set the environment variable PYOPENCL_COMPILER_OUTPUT=1 to see more.\n",
      "  warn(\"Non-empty compiler output encountered. Set the \"\n"
     ]
    },
    {
     "name": "stdout",
     "output_type": "stream",
     "text": [
      "137 ms ± 27.2 ms per loop (mean ± std. dev. of 2 runs, 2 loops each)\n",
      "3.06 s ± 209 µs per loop (mean ± std. dev. of 2 runs, 2 loops each)\n",
      "Run Pocl Tst\n",
      "57.1 ms ± 5.54 ms per loop (mean ± std. dev. of 2 runs, 2 loops each)\n",
      "78.7 ms ± 1.3 ms per loop (mean ± std. dev. of 2 runs, 2 loops each)\n",
      "Run Numba Test\n",
      "257 ms ± 13.1 ms per loop (mean ± std. dev. of 2 runs, 2 loops each)\n",
      "241 ms ± 124 µs per loop (mean ± std. dev. of 2 runs, 2 loops each)\n"
     ]
    }
   ],
   "source": [
    "print(\"Run GPU Test\")\n",
    "bempp.api.BOUNDARY_OPERATOR_DEVICE_TYPE = \"gpu\"\n",
    "res_gpu_single, res_gpu_double = test_single_layer()\n",
    "\n",
    "print(\"Run Pocl Tst\")\n",
    "bempp.api.BOUNDARY_OPERATOR_DEVICE_TYPE = \"cpu\"\n",
    "bempp.core.opencl_kernels.set_default_cpu_device_by_name('Portable Computing Language')\n",
    "res_cpu_single, res_cpu_double = test_single_layer()\n",
    "\n",
    "print(\"Run Numba Test\")\n",
    "bempp.api.BOUNDARY_OPERATOR_DEVICE_TYPE = \"cpu\"\n",
    "bempp.api.DEFAULT_DEVICE_INTERFACE = \"numba\"\n",
    "res_numba_single, res_numba_double = test_single_layer()\n",
    "bempp.api.DEFAULT_DEVICE_INTERFACE = \"opencl\""
   ]
  },
  {
   "cell_type": "markdown",
   "id": "eligible-hampton",
   "metadata": {},
   "source": [
    "## Comparison of POCL and Intel for complex Helmholtz kernel"
   ]
  },
  {
   "cell_type": "code",
   "execution_count": 23,
   "id": "linear-electricity",
   "metadata": {},
   "outputs": [],
   "source": [
    "# def run_single_layer_helmholtz_benchmark():\n",
    "#     \"\"\"Benchmark the single layer operator.\"\"\"\n",
    "#     grid_sizes = [3, 4, 5, 6]\n",
    "#     nelements = []\n",
    "#     results = {}\n",
    "#     results[(\"P0\", \"single\")] = []\n",
    "#     results[(\"P0\", \"double\")] = []\n",
    "#     results[(\"P1\", \"single\")] = []\n",
    "#     results[(\"P1\", \"double\")] = []\n",
    "#     results[\"nelements\"] = []\n",
    "    \n",
    "#     print(f\"Default Device: {default_device().name}\")\n",
    "\n",
    "\n",
    "#     for grid_size in grid_sizes:\n",
    "#         grid = bempp.api.shapes.regular_sphere(grid_size)\n",
    "#         p0_space = bempp.api.function_space(grid, \"DP\", 0)\n",
    "#         p1_space = bempp.api.function_space(grid, \"P\", 1)\n",
    "#         result_p0_single = %timeit -o -r 2 -n 2 bempp.api.operators.boundary.helmholtz.single_layer(p0_space, p0_space, p0_space, 1.0, precision=\"single\").weak_form()\n",
    "#         result_p0_double = %timeit -o -r 2 -n 2 bempp.api.operators.boundary.helmholtz.single_layer(p0_space, p0_space, p0_space, 1.0, precision=\"double\").weak_form()\n",
    "#         result_p1_single = %timeit -o -r 2 -n 2 bempp.api.operators.boundary.helmholtz.single_layer(p1_space, p1_space, p1_space, 1.0, precision=\"single\").weak_form()\n",
    "#         result_p1_double = %timeit -o -r 2 -n 2 bempp.api.operators.boundary.helmholtz.single_layer(p1_space, p1_space, p1_space, 1.0, precision=\"double\").weak_form()\n",
    "#         results[(\"P0\", \"single\")].append(result_p0_single.best)\n",
    "#         results[(\"P0\", \"double\")].append(result_p0_double.best)\n",
    "#         results[(\"P1\", \"single\")].append(result_p1_single.best)\n",
    "#         results[(\"P1\", \"double\")].append(result_p1_double.best)\n",
    "#         results[\"nelements\"].append(grid.number_of_elements)\n",
    "        \n",
    "#     return results"
   ]
  },
  {
   "cell_type": "code",
   "execution_count": 24,
   "id": "spanish-medline",
   "metadata": {},
   "outputs": [],
   "source": [
    "# bempp.core.opencl_kernels.set_default_cpu_device_by_name('Portable Computing Language')\n",
    "# results_helmholtz_pocl = run_single_layer_benchmark()\n",
    "\n",
    "# bempp.core.opencl_kernels.set_default_cpu_device_by_name('Intel(R) OpenCL')\n",
    "# results_helmholtz_intel = run_single_layer_benchmark()"
   ]
  },
  {
   "cell_type": "code",
   "execution_count": 25,
   "id": "coordinated-commander",
   "metadata": {},
   "outputs": [],
   "source": [
    "# values_p0 = [results_helmholtz_pocl[\"P0\", \"single\"][-1],\n",
    "#           results_helmholtz_intel[\"P0\", \"single\"][-1],\n",
    "#           results_helmholtz_pocl[\"P0\", \"double\"][-1],\n",
    "#           results_helmholtz_intel[\"P0\", \"double\"][-1],\n",
    "#          ]\n",
    "\n",
    "\n",
    "# labels = [\"Pocl (single)\", \"Intel (single)\", \"Pocl (double)\", \"Intel (double)\"]\n",
    "# pos = range(4)\n",
    "\n",
    "# fig = plt.figure(figsize=(8, 8))\n",
    "# ax = fig.add_subplot(111)\n",
    "\n",
    "# ax.barh(pos, values_p0)\n",
    "# ax.set_xlabel(\"Time [s]\")\n",
    "# ax.set_yticks(pos);\n",
    "# ax.set_yticklabels(labels);\n",
    "# ax.set_title(\"P0 Basis\")\n"
   ]
  },
  {
   "cell_type": "code",
   "execution_count": 26,
   "id": "employed-ivory",
   "metadata": {},
   "outputs": [],
   "source": [
    "# results_helmholtz_pocl[\"P0\", \"double\"]"
   ]
  },
  {
   "cell_type": "code",
   "execution_count": 27,
   "id": "rolled-producer",
   "metadata": {},
   "outputs": [],
   "source": [
    "# results_helmholtz_intel[\"P0\", \"single\"]"
   ]
  },
  {
   "cell_type": "markdown",
   "id": "hidden-mixture",
   "metadata": {},
   "source": [
    "## Performance of domain potentials"
   ]
  },
  {
   "cell_type": "markdown",
   "id": "lyric-pepper",
   "metadata": {},
   "source": [
    "We benchmark the electric field domain potential operator defined over the unit sphere to evaluate the potential at a number of points outside the unit sphere."
   ]
  },
  {
   "cell_type": "code",
   "execution_count": 28,
   "id": "criminal-retention",
   "metadata": {},
   "outputs": [],
   "source": [
    "npoints = 50000\n",
    "\n",
    "rand = np.random.RandomState(0)\n",
    "\n",
    "# Points are shifted away from the unit sphere\n",
    "points = rand.rand(3, npoints) + 1.5\n",
    "\n",
    "grid = bempp.api.shapes.regular_sphere(6)\n",
    "space = bempp.api.function_space(grid, \"RWG\", 0)\n",
    "\n",
    "\n",
    "def test_potential():\n",
    "    \"\"\"Test the potential operator.\"\"\"\n",
    "\n",
    "    fun = bempp.api.GridFunction.from_random(space)\n",
    "    \n",
    "    op = bempp.api.operators.potential.maxwell.electric_field(space, points, 1.0, precision='single')    \n",
    "    result_single = %timeit -o -r 2 -n 2 op @ fun\n",
    "    \n",
    "    op = bempp.api.operators.potential.maxwell.electric_field(space, points, 1.0, precision='double')        \n",
    "    result_double = %timeit -o -r 2 -n 2 op @ fun\n",
    "    \n",
    "    \n",
    "    return result_single.best, result_double.best"
   ]
  },
  {
   "cell_type": "code",
   "execution_count": 29,
   "id": "realistic-cooking",
   "metadata": {},
   "outputs": [
    {
     "name": "stdout",
     "output_type": "stream",
     "text": [
      "Benchmark potential on CPU with Pocl\n",
      "23.9 s ± 276 ms per loop (mean ± std. dev. of 2 runs, 2 loops each)\n",
      "55.3 s ± 191 ms per loop (mean ± std. dev. of 2 runs, 2 loops each)\n",
      "Benchmark potential on Nvidia GPU\n",
      "1.43 s ± 17.9 ms per loop (mean ± std. dev. of 2 runs, 2 loops each)\n",
      "30.5 s ± 33.2 ms per loop (mean ± std. dev. of 2 runs, 2 loops each)\n"
     ]
    }
   ],
   "source": [
    "print(\"Benchmark potential on CPU with Pocl\")\n",
    "\n",
    "set_default_cpu_device_by_name(\"Portable Computing Language\")\n",
    "\n",
    "bempp.api.POTENTIAL_OPERATOR_DEVICE_TYPE = 'cpu'\n",
    "result_potential_pocl_single, result_potential_pocl_double = test_potential()\n",
    "\n",
    "print(\"Benchmark potential on Nvidia GPU\")\n",
    "bempp.api.POTENTIAL_OPERATOR_DEVICE_TYPE = 'gpu'\n",
    "result_potential_nvidia_single, result_potential_nvidia_double = test_potential()"
   ]
  },
  {
   "cell_type": "code",
   "execution_count": 30,
   "id": "quick-thickness",
   "metadata": {},
   "outputs": [
    {
     "name": "stdout",
     "output_type": "stream",
     "text": [
      "range(0, 4)\n",
      "[23.609370286000058, 1.415747409000005, 55.096339988999944, 30.435061263999955]\n"
     ]
    },
    {
     "data": {
      "image/png": "[encoded data removed]",
      "text/plain": [
       "<Figure size 576x576 with 1 Axes>"
      ]
     },
     "metadata": {
      "needs_background": "light"
     },
     "output_type": "display_data"
    }
   ],
   "source": [
    "potential_times = [result_potential_pocl_single,\n",
    "                   result_potential_nvidia_single,\n",
    "                   result_potential_pocl_double,\n",
    "                   result_potential_nvidia_double]\n",
    "\n",
    "labels = [\"Pocl (single)\", \"Nvidia (single)\", \"Pocl (double)\", \"Nvidia (double)\"]\n",
    "pos = range(4)\n",
    "\n",
    "fig = plt.figure(figsize=(8, 8))\n",
    "ax = fig.add_subplot(111)\n",
    "\n",
    "print(pos)\n",
    "print(potential_times)\n",
    "\n",
    "container = ax.barh(pos, potential_times)\n",
    "\n",
    "container.patches[0].set_facecolor('k')\n",
    "container.patches[2].set_facecolor('k')\n",
    "ax.set_xlabel(\"Time [s]\")\n",
    "ax.set_yticks(pos);\n",
    "ax.set_yticklabels(labels);\n",
    "ax.set_title(\"Electric field domain potential\");\n",
    "\n",
    "plt.savefig(\"efield_domain_potential.pdf\", bbox_inches='tight', transparent=True)"
   ]
  }
 ],
 "metadata": {
  "kernelspec": {
   "display_name": "Python [conda env:dev]",
   "language": "python",
   "name": "conda-env-dev-py"
  },
  "language_info": {
   "codemirror_mode": {
    "name": "ipython",
    "version": 3
   },
   "file_extension": ".py",
   "mimetype": "text/x-python",
   "name": "python",
   "nbconvert_exporter": "python",
   "pygments_lexer": "ipython3",
   "version": "3.9.2"
  }
 },
 "nbformat": 4,
 "nbformat_minor": 5
}
