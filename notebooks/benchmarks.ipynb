{
 "cells": [
  {
   "cell_type": "markdown",
   "metadata": {},
   "source": [
    "# Benchmark experiments"
   ]
  },
  {
   "cell_type": "markdown",
   "metadata": {},
   "source": [
    "### Benchmarking the assembly of a Laplace single layer operator"
   ]
  },
  {
   "cell_type": "markdown",
   "metadata": {},
   "source": [
    "In our first experiment we benchmark the assembly of a Laplace single layer boundary operator."
   ]
  },
  {
   "cell_type": "code",
   "execution_count": 1,
   "metadata": {},
   "outputs": [],
   "source": [
    "%matplotlib inline\n",
    "from matplotlib import pyplot as plt\n",
    "import bempp.api\n",
    "import numpy as np"
   ]
  },
  {
   "cell_type": "code",
   "execution_count": 2,
   "metadata": {},
   "outputs": [],
   "source": [
    "from bempp.core.opencl_kernels import default_device, set_default_cpu_device_by_name, set_default_gpu_device_by_name, default_cpu_device, default_gpu_device\n",
    "\n",
    "def run_single_layer_benchmark():\n",
    "    \"\"\"Benchmark the single layer operator.\"\"\"\n",
    "    grid_sizes = [3, 4, 5, 6]\n",
    "    nelements = []\n",
    "    results = {}\n",
    "    results[(\"P0\", \"single\")] = []\n",
    "    results[(\"P0\", \"double\")] = []\n",
    "    results[(\"P1\", \"single\")] = []\n",
    "    results[(\"P1\", \"double\")] = []\n",
    "    results[\"nelements\"] = []\n",
    "    \n",
    "    print(f\"Default Device: {default_device().name}\")\n",
    "\n",
    "\n",
    "    for grid_size in grid_sizes:\n",
    "        grid = bempp.api.shapes.regular_sphere(grid_size)\n",
    "        p0_space = bempp.api.function_space(grid, \"DP\", 0)\n",
    "        p1_space = bempp.api.function_space(grid, \"P\", 1)\n",
    "        result_p0_single = %timeit -o -r 2 -n 2 bempp.api.operators.boundary.laplace.single_layer(p0_space, p0_space, p0_space, precision=\"single\").weak_form()\n",
    "        result_p1_single = %timeit -o -r 2 -n 2 bempp.api.operators.boundary.laplace.single_layer(p1_space, p1_space, p1_space, precision=\"single\").weak_form()\n",
    "        result_p0_double = %timeit -o -r 2 -n 2 bempp.api.operators.boundary.laplace.single_layer(p0_space, p0_space, p0_space, precision=\"double\").weak_form()\n",
    "        result_p1_double = %timeit -o -r 2 -n 2 bempp.api.operators.boundary.laplace.single_layer(p1_space, p1_space, p1_space, precision=\"double\").weak_form()\n",
    "        results[(\"P0\", \"single\")].append(result_p0_single.best)\n",
    "        results[(\"P0\", \"double\")].append(result_p0_double.best)\n",
    "        results[(\"P1\", \"single\")].append(result_p1_single.best)\n",
    "        results[(\"P1\", \"double\")].append(result_p1_double.best)\n",
    "        results[\"nelements\"].append(grid.number_of_elements)\n",
    "        \n",
    "    return results"
   ]
  },
  {
   "cell_type": "markdown",
   "metadata": {},
   "source": [
    "# Tests for single layer assembly"
   ]
  },
  {
   "cell_type": "code",
   "execution_count": 3,
   "metadata": {},
   "outputs": [
    {
     "name": "stdout",
     "output_type": "stream",
     "text": [
      "Default Device: pthread-Intel(R) Core(TM) i9-9980HK CPU @ 2.40GHz\n",
      "31.5 ms ± 5.28 ms per loop (mean ± std. dev. of 2 runs, 2 loops each)\n",
      "55.6 ms ± 4.03 ms per loop (mean ± std. dev. of 2 runs, 2 loops each)\n",
      "33.9 ms ± 2.2 ms per loop (mean ± std. dev. of 2 runs, 2 loops each)\n",
      "56.1 ms ± 2.1 ms per loop (mean ± std. dev. of 2 runs, 2 loops each)\n",
      "71.4 ms ± 15.6 ms per loop (mean ± std. dev. of 2 runs, 2 loops each)\n",
      "126 ms ± 8.67 ms per loop (mean ± std. dev. of 2 runs, 2 loops each)\n",
      "82.2 ms ± 885 µs per loop (mean ± std. dev. of 2 runs, 2 loops each)\n",
      "145 ms ± 1.42 ms per loop (mean ± std. dev. of 2 runs, 2 loops each)\n",
      "354 ms ± 23.4 ms per loop (mean ± std. dev. of 2 runs, 2 loops each)\n",
      "826 ms ± 45.5 ms per loop (mean ± std. dev. of 2 runs, 2 loops each)\n",
      "676 ms ± 12.7 ms per loop (mean ± std. dev. of 2 runs, 2 loops each)\n",
      "1.39 s ± 7.17 ms per loop (mean ± std. dev. of 2 runs, 2 loops each)\n",
      "4.26 s ± 121 ms per loop (mean ± std. dev. of 2 runs, 2 loops each)\n",
      "14 s ± 155 ms per loop (mean ± std. dev. of 2 runs, 2 loops each)\n",
      "9.67 s ± 17.8 ms per loop (mean ± std. dev. of 2 runs, 2 loops each)\n",
      "23.2 s ± 8.77 ms per loop (mean ± std. dev. of 2 runs, 2 loops each)\n",
      "Default Device: Intel(R) Core(TM) i9-9980HK CPU @ 2.40GHz\n"
     ]
    },
    {
     "name": "stderr",
     "output_type": "stream",
     "text": [
      "/home/betcke/miniconda3/envs/dev/lib/python3.9/site-packages/pyopencl/__init__.py:266: CompilerWarning: Non-empty compiler output encountered. Set the environment variable PYOPENCL_COMPILER_OUTPUT=1 to see more.\n",
      "  warn(\"Non-empty compiler output encountered. Set the \"\n"
     ]
    },
    {
     "name": "stdout",
     "output_type": "stream",
     "text": [
      "50.8 ms ± 4.25 ms per loop (mean ± std. dev. of 2 runs, 2 loops each)\n",
      "75.3 ms ± 3.85 ms per loop (mean ± std. dev. of 2 runs, 2 loops each)\n",
      "48.9 ms ± 1.2 ms per loop (mean ± std. dev. of 2 runs, 2 loops each)\n",
      "68.9 ms ± 1.43 ms per loop (mean ± std. dev. of 2 runs, 2 loops each)\n",
      "82.7 ms ± 9.35 ms per loop (mean ± std. dev. of 2 runs, 2 loops each)\n",
      "129 ms ± 12.9 ms per loop (mean ± std. dev. of 2 runs, 2 loops each)\n",
      "108 ms ± 1.46 ms per loop (mean ± std. dev. of 2 runs, 2 loops each)\n",
      "162 ms ± 6.13 ms per loop (mean ± std. dev. of 2 runs, 2 loops each)\n",
      "391 ms ± 22.2 ms per loop (mean ± std. dev. of 2 runs, 2 loops each)\n",
      "700 ms ± 47.5 ms per loop (mean ± std. dev. of 2 runs, 2 loops each)\n",
      "923 ms ± 6.81 ms per loop (mean ± std. dev. of 2 runs, 2 loops each)\n",
      "1.42 s ± 7.92 ms per loop (mean ± std. dev. of 2 runs, 2 loops each)\n",
      "10.3 s ± 44 ms per loop (mean ± std. dev. of 2 runs, 2 loops each)\n",
      "9 s ± 152 ms per loop (mean ± std. dev. of 2 runs, 2 loops each)\n",
      "25.4 s ± 12.8 ms per loop (mean ± std. dev. of 2 runs, 2 loops each)\n",
      "20.5 s ± 12.5 ms per loop (mean ± std. dev. of 2 runs, 2 loops each)\n"
     ]
    }
   ],
   "source": [
    "bempp.core.opencl_kernels.set_default_cpu_device_by_name('Portable Computing Language')\n",
    "results_pocl = run_single_layer_benchmark()\n",
    "\n",
    "bempp.core.opencl_kernels.set_default_cpu_device_by_name('Intel(R) OpenCL')\n",
    "results_intel = run_single_layer_benchmark()"
   ]
  },
  {
   "cell_type": "code",
   "execution_count": 23,
   "metadata": {},
   "outputs": [
    {
     "data": {
      "image/png": "[encoded data removed]",
      "text/plain": [
       "<Figure size 576x576 with 1 Axes>"
      ]
     },
     "metadata": {
      "needs_background": "light"
     },
     "output_type": "display_data"
    }
   ],
   "source": [
    "plt.rcParams.update({'font.size': 22})\n",
    "fig = plt.figure(figsize=(8, 8))\n",
    "ax = fig.add_subplot(111)\n",
    "\n",
    "results = results_pocl\n",
    "\n",
    "basis_type = \"P0\"\n",
    "\n",
    "arrow_length = results[(basis_type, \"double\")][-1] - results[(basis_type, \"single\")][-1]\n",
    "speedup = \"{0:1.1f} x faster\".format(results[(basis_type, \"double\")][-1] / results[(basis_type, \"single\")][-1])\n",
    "\n",
    "plt.loglog(results[\"nelements\"], results[(basis_type, \"single\")], 'k-x', markersize=8)\n",
    "plt.loglog(results[\"nelements\"], results[(basis_type, \"double\")], 'r--x', markersize=8)\n",
    "plt.legend([\"Single Precision\", \"Double Precision\"])\n",
    "plt.arrow(results['nelements'][-1], results[(basis_type, \"single\")][-1], 0, \n",
    "          arrow_length,\n",
    "          linestyle='--', ec=\"blue\", lw=4, head_length=0)\n",
    "plt.annotate(speedup, xy=(8E3, results[(basis_type, \"single\")][-1] + .3 * arrow_length))\n",
    "plt.xlabel('# Elements')\n",
    "plt.ylabel('Time [s]')\n",
    "plt.savefig('pocl_single_layer.png', bbox_inches='tight', transparent=True)\n",
    "\n",
    "print(results[\"nelements\"])\n",
    "print(results[(basis_type, \"single\")])\n",
    "print(results[(basis_type, \"double\")])"
   ]
  },
  {
   "cell_type": "markdown",
   "metadata": {},
   "source": [
    "## Draw Histogram chart"
   ]
  },
  {
   "cell_type": "code",
   "execution_count": 24,
   "metadata": {},
   "outputs": [
    {
     "data": {
      "image/png": "[encoded data removed]",
      "text/plain": [
       "<Figure size 576x576 with 2 Axes>"
      ]
     },
     "metadata": {
      "needs_background": "light"
     },
     "output_type": "display_data"
    }
   ],
   "source": [
    "values_p0 = [results_pocl[\"P0\", \"single\"][-1],\n",
    "          results_intel[\"P0\", \"single\"][-1],\n",
    "          results_pocl[\"P0\", \"double\"][-1],\n",
    "          results_intel[\"P0\", \"double\"][-1],\n",
    "         ]\n",
    "\n",
    "values_p1 = [results_pocl[\"P1\", \"single\"][-1],\n",
    "          results_intel[\"P1\", \"single\"][-1],\n",
    "          results_pocl[\"P1\", \"double\"][-1],\n",
    "          results_intel[\"P1\", \"double\"][-1],\n",
    "         ]\n",
    "\n",
    "print(pos)\n",
    "print(values_p0)\n",
    "print(values_p1)\n",
    "\n",
    "\n",
    "labels = [\"Pocl (single)\", \"Intel (single)\", \"Pocl (double)\", \"Intel (double)\"]\n",
    "pos = range(4)\n",
    "\n",
    "fig = plt.figure(figsize=(8, 8))\n",
    "ax = fig.add_subplot(211)\n",
    "\n",
    "container = ax.barh(pos, values_p0)\n",
    "\n",
    "container.patches[0].set_facecolor('k')\n",
    "container.patches[2].set_facecolor('k')\n",
    "ax.set_xlabel(\"Time [s]\")\n",
    "ax.set_yticks(pos);\n",
    "ax.set_yticklabels(labels);\n",
    "ax.set_title(\"P0 Basis\")\n",
    "\n",
    "\n",
    "ax = fig.add_subplot(212)\n",
    "container = ax.barh(pos, values_p1)\n",
    "ax.set_xlabel(\"Time [s]\")\n",
    "ax.set_yticks(pos);\n",
    "ax.set_yticklabels(labels);\n",
    "ax.set_title(\"P1 Basis\")\n",
    "plt.subplots_adjust(hspace=.8)\n",
    "\n",
    "container.patches[0].set_facecolor('k')\n",
    "container.patches[2].set_facecolor('k')\n",
    "\n",
    "plt.savefig(\"intel_pocl_laplace_comp.png\", bbox_inches='tight', transparent=True)"
   ]
  },
  {
   "cell_type": "markdown",
   "metadata": {},
   "source": [
    "# GPU vs CPU vs Numba for Laplace single-layer"
   ]
  },
  {
   "cell_type": "code",
   "execution_count": 6,
   "metadata": {},
   "outputs": [],
   "source": [
    "bempp.api.BOUNDARY_OPERATOR_DEVICE_TYPE = 'gpu'\n",
    "\n",
    "def test_single_layer():\n",
    "    \"\"\"Run a single layer benchmark for a specific grid.\"\"\"\n",
    "    \n",
    "    grid = bempp.api.shapes.regular_sphere(4)\n",
    "    p0_space = bempp.api.function_space(grid, \"DP\", 0)\n",
    "    single_time = %timeit -o -r 2 -n 2 bempp.api.operators.boundary.laplace.single_layer(p0_space, p0_space, p0_space, precision=\"single\").weak_form()\n",
    "    double_time = %timeit -o -r 2 -n 2 bempp.api.operators.boundary.laplace.single_layer(p0_space, p0_space, p0_space, precision=\"double\").weak_form()\n",
    "    \n",
    "    return single_time, double_time"
   ]
  },
  {
   "cell_type": "code",
   "execution_count": 7,
   "metadata": {},
   "outputs": [
    {
     "name": "stdout",
     "output_type": "stream",
     "text": [
      "Run GPU Test\n",
      "157 ms ± 51.8 ms per loop (mean ± std. dev. of 2 runs, 2 loops each)\n",
      "3.06 s ± 1.36 ms per loop (mean ± std. dev. of 2 runs, 2 loops each)\n",
      "Run Pocl Tst\n",
      "55.2 ms ± 5.02 ms per loop (mean ± std. dev. of 2 runs, 2 loops each)\n",
      "76.8 ms ± 766 µs per loop (mean ± std. dev. of 2 runs, 2 loops each)\n",
      "Run Numba Test\n",
      "The slowest run took 11.02 times longer than the fastest. This could mean that an intermediate result is being cached.\n",
      "1.57 s ± 1.31 s per loop (mean ± std. dev. of 2 runs, 2 loops each)\n",
      "The slowest run took 8.59 times longer than the fastest. This could mean that an intermediate result is being cached.\n",
      "1.18 s ± 934 ms per loop (mean ± std. dev. of 2 runs, 2 loops each)\n"
     ]
    }
   ],
   "source": [
    "print(\"Run GPU Test\")\n",
    "bempp.api.BOUNDARY_OPERATOR_DEVICE_TYPE = \"gpu\"\n",
    "res_gpu_single, res_gpu_double = test_single_layer()\n",
    "\n",
    "print(\"Run Pocl Tst\")\n",
    "bempp.api.BOUNDARY_OPERATOR_DEVICE_TYPE = \"cpu\"\n",
    "bempp.core.opencl_kernels.set_default_cpu_device_by_name('Portable Computing Language')\n",
    "res_cpu_single, res_cpu_double = test_single_layer()\n",
    "\n",
    "print(\"Run Numba Test\")\n",
    "bempp.api.BOUNDARY_OPERATOR_DEVICE_TYPE = \"cpu\"\n",
    "bempp.api.DEFAULT_DEVICE_INTERFACE = \"numba\"\n",
    "res_numba_single, res_numba_double = test_single_layer()\n",
    "bempp.api.DEFAULT_DEVICE_INTERFACE = \"opencl\""
   ]
  },
  {
   "cell_type": "markdown",
   "metadata": {},
   "source": [
    "## Comparison of POCL and Intel for complex Helmholtz kernel"
   ]
  },
  {
   "cell_type": "code",
   "execution_count": 8,
   "metadata": {},
   "outputs": [],
   "source": [
    "# def run_single_layer_helmholtz_benchmark():\n",
    "#     \"\"\"Benchmark the single layer operator.\"\"\"\n",
    "#     grid_sizes = [3, 4, 5, 6]\n",
    "#     nelements = []\n",
    "#     results = {}\n",
    "#     results[(\"P0\", \"single\")] = []\n",
    "#     results[(\"P0\", \"double\")] = []\n",
    "#     results[(\"P1\", \"single\")] = []\n",
    "#     results[(\"P1\", \"double\")] = []\n",
    "#     results[\"nelements\"] = []\n",
    "    \n",
    "#     print(f\"Default Device: {default_device().name}\")\n",
    "\n",
    "\n",
    "#     for grid_size in grid_sizes:\n",
    "#         grid = bempp.api.shapes.regular_sphere(grid_size)\n",
    "#         p0_space = bempp.api.function_space(grid, \"DP\", 0)\n",
    "#         p1_space = bempp.api.function_space(grid, \"P\", 1)\n",
    "#         result_p0_single = %timeit -o -r 2 -n 2 bempp.api.operators.boundary.helmholtz.single_layer(p0_space, p0_space, p0_space, 1.0, precision=\"single\").weak_form()\n",
    "#         result_p0_double = %timeit -o -r 2 -n 2 bempp.api.operators.boundary.helmholtz.single_layer(p0_space, p0_space, p0_space, 1.0, precision=\"double\").weak_form()\n",
    "#         result_p1_single = %timeit -o -r 2 -n 2 bempp.api.operators.boundary.helmholtz.single_layer(p1_space, p1_space, p1_space, 1.0, precision=\"single\").weak_form()\n",
    "#         result_p1_double = %timeit -o -r 2 -n 2 bempp.api.operators.boundary.helmholtz.single_layer(p1_space, p1_space, p1_space, 1.0, precision=\"double\").weak_form()\n",
    "#         results[(\"P0\", \"single\")].append(result_p0_single.best)\n",
    "#         results[(\"P0\", \"double\")].append(result_p0_double.best)\n",
    "#         results[(\"P1\", \"single\")].append(result_p1_single.best)\n",
    "#         results[(\"P1\", \"double\")].append(result_p1_double.best)\n",
    "#         results[\"nelements\"].append(grid.number_of_elements)\n",
    "        \n",
    "#     return results"
   ]
  },
  {
   "cell_type": "code",
   "execution_count": 9,
   "metadata": {},
   "outputs": [],
   "source": [
    "# bempp.core.opencl_kernels.set_default_cpu_device_by_name('Portable Computing Language')\n",
    "# results_helmholtz_pocl = run_single_layer_benchmark()\n",
    "\n",
    "# bempp.core.opencl_kernels.set_default_cpu_device_by_name('Intel(R) OpenCL')\n",
    "# results_helmholtz_intel = run_single_layer_benchmark()"
   ]
  },
  {
   "cell_type": "code",
   "execution_count": 10,
   "metadata": {},
   "outputs": [],
   "source": [
    "# values_p0 = [results_helmholtz_pocl[\"P0\", \"single\"][-1],\n",
    "#           results_helmholtz_intel[\"P0\", \"single\"][-1],\n",
    "#           results_helmholtz_pocl[\"P0\", \"double\"][-1],\n",
    "#           results_helmholtz_intel[\"P0\", \"double\"][-1],\n",
    "#          ]\n",
    "\n",
    "\n",
    "# labels = [\"Pocl (single)\", \"Intel (single)\", \"Pocl (double)\", \"Intel (double)\"]\n",
    "# pos = range(4)\n",
    "\n",
    "# fig = plt.figure(figsize=(8, 8))\n",
    "# ax = fig.add_subplot(111)\n",
    "\n",
    "# ax.barh(pos, values_p0)\n",
    "# ax.set_xlabel(\"Time [s]\")\n",
    "# ax.set_yticks(pos);\n",
    "# ax.set_yticklabels(labels);\n",
    "# ax.set_title(\"P0 Basis\")\n"
   ]
  },
  {
   "cell_type": "code",
   "execution_count": 11,
   "metadata": {},
   "outputs": [],
   "source": [
    "# results_helmholtz_pocl[\"P0\", \"double\"]"
   ]
  },
  {
   "cell_type": "code",
   "execution_count": 12,
   "metadata": {},
   "outputs": [],
   "source": [
    "# results_helmholtz_intel[\"P0\", \"single\"]"
   ]
  },
  {
   "cell_type": "markdown",
   "metadata": {},
   "source": [
    "## Performance of domain potentials"
   ]
  },
  {
   "cell_type": "markdown",
   "metadata": {},
   "source": [
    "We benchmark the electric field domain potential operator defined over the unit sphere to evaluate the potential at a number of points outside the unit sphere."
   ]
  },
  {
   "cell_type": "code",
   "execution_count": 13,
   "metadata": {},
   "outputs": [],
   "source": [
    "npoints = 50000\n",
    "\n",
    "rand = np.random.RandomState(0)\n",
    "\n",
    "# Points are shifted away from the unit sphere\n",
    "points = rand.rand(3, npoints) + 1.5\n",
    "\n",
    "grid = bempp.api.shapes.regular_sphere(6)\n",
    "space = bempp.api.function_space(grid, \"RWG\", 0)\n",
    "\n",
    "\n",
    "def test_potential():\n",
    "    \"\"\"Test the potential operator.\"\"\"\n",
    "\n",
    "    fun = bempp.api.GridFunction.from_random(space)\n",
    "    \n",
    "    op = bempp.api.operators.potential.maxwell.electric_field(space, points, 1.0, precision='single')    \n",
    "    result_single = %timeit -o -r 2 -n 2 op @ fun\n",
    "    \n",
    "    op = bempp.api.operators.potential.maxwell.electric_field(space, points, 1.0, precision='double')        \n",
    "    result_double = %timeit -o -r 2 -n 2 op @ fun\n",
    "    \n",
    "    \n",
    "    return result_single.best, result_double.best"
   ]
  },
  {
   "cell_type": "code",
   "execution_count": 14,
   "metadata": {},
   "outputs": [
    {
     "name": "stdout",
     "output_type": "stream",
     "text": [
      "Benchmark potential on CPU with Pocl\n",
      "23.9 s ± 482 ms per loop (mean ± std. dev. of 2 runs, 2 loops each)\n",
      "55 s ± 210 ms per loop (mean ± std. dev. of 2 runs, 2 loops each)\n",
      "Benchmark potential on CPU with Pocl\n",
      "1.42 s ± 12 ms per loop (mean ± std. dev. of 2 runs, 2 loops each)\n",
      "30.4 s ± 91.9 ms per loop (mean ± std. dev. of 2 runs, 2 loops each)\n"
     ]
    }
   ],
   "source": [
    "print(\"Benchmark potential on CPU with Pocl\")\n",
    "\n",
    "set_default_cpu_device_by_name(\"Portable Computing Language\")\n",
    "\n",
    "bempp.api.POTENTIAL_OPERATOR_DEVICE_TYPE = 'cpu'\n",
    "result_potential_pocl_single, result_potential_pocl_double = test_potential()\n",
    "\n",
    "print(\"Benchmark potential on CPU with Pocl\")\n",
    "bempp.api.POTENTIAL_OPERATOR_DEVICE_TYPE = 'gpu'\n",
    "result_potential_nvidia_single, result_potential_nvidia_double = test_potential()"
   ]
  },
  {
   "cell_type": "code",
   "execution_count": 21,
   "metadata": {},
   "outputs": [
    {
     "data": {
      "image/png": "[encoded data removed]",
      "text/plain": [
       "<Figure size 576x576 with 1 Axes>"
      ]
     },
     "metadata": {
      "needs_background": "light"
     },
     "output_type": "display_data"
    }
   ],
   "source": [
    "potential_times = [result_potential_pocl_single,\n",
    "                   result_potential_nvidia_single,\n",
    "                   result_potential_pocl_double,\n",
    "                   result_potential_nvidia_double]\n",
    "\n",
    "labels = [\"Pocl (single)\", \"Nvidia (single)\", \"Pocl (double)\", \"Nvidia (double)\"]\n",
    "pos = range(4)\n",
    "\n",
    "fig = plt.figure(figsize=(8, 8))\n",
    "ax = fig.add_subplot(111)\n",
    "\n",
    "print(pos)\n",
    "print(potential_times)\n",
    "\n",
    "container = ax.barh(pos, potential_times)\n",
    "\n",
    "container.patches[0].set_facecolor('k')\n",
    "container.patches[2].set_facecolor('k')\n",
    "ax.set_xlabel(\"Time [s]\")\n",
    "ax.set_yticks(pos);\n",
    "ax.set_yticklabels(labels);\n",
    "ax.set_title(\"Electric field domain potential\");\n",
    "\n",
    "plt.savefig(\"efield_domain_potential.png\", bbox_inches='tight', transparent=True)"
   ]
  },
  {
   "cell_type": "code",
   "execution_count": 18,
   "metadata": {},
   "outputs": [
    {
     "name": "stdout",
     "output_type": "stream",
     "text": [
      "Help on function savefig in module matplotlib.pyplot:\n",
      "\n",
      "savefig(*args, **kwargs)\n",
      "    Save the current figure.\n",
      "    \n",
      "    Call signature::\n",
      "    \n",
      "      savefig(fname, dpi=None, facecolor='w', edgecolor='w',\n",
      "              orientation='portrait', papertype=None, format=None,\n",
      "              transparent=False, bbox_inches=None, pad_inches=0.1,\n",
      "              frameon=None, metadata=None)\n",
      "    \n",
      "    The available output formats depend on the backend being used.\n",
      "    \n",
      "    Parameters\n",
      "    ----------\n",
      "    fname : str or path-like or file-like\n",
      "        A path, or a Python file-like object, or\n",
      "        possibly some backend-dependent object such as\n",
      "        `matplotlib.backends.backend_pdf.PdfPages`.\n",
      "    \n",
      "        If *format* is set, it determines the output format, and the file\n",
      "        is saved as *fname*.  Note that *fname* is used verbatim, and there\n",
      "        is no attempt to make the extension, if any, of *fname* match\n",
      "        *format*, and no extension is appended.\n",
      "    \n",
      "        If *format* is not set, then the format is inferred from the\n",
      "        extension of *fname*, if there is one.  If *format* is not\n",
      "        set and *fname* has no extension, then the file is saved with\n",
      "        :rc:`savefig.format` and the appropriate extension is appended to\n",
      "        *fname*.\n",
      "    \n",
      "    Other Parameters\n",
      "    ----------------\n",
      "    dpi : float or 'figure', default: :rc:`savefig.dpi`\n",
      "        The resolution in dots per inch.  If 'figure', use the figure's\n",
      "        dpi value.\n",
      "    \n",
      "    quality : int, default: :rc:`savefig.jpeg_quality`\n",
      "        Applicable only if *format* is 'jpg' or 'jpeg', ignored otherwise.\n",
      "    \n",
      "        The image quality, on a scale from 1 (worst) to 95 (best).\n",
      "        Values above 95 should be avoided; 100 disables portions of\n",
      "        the JPEG compression algorithm, and results in large files\n",
      "        with hardly any gain in image quality.\n",
      "    \n",
      "        This parameter is deprecated.\n",
      "    \n",
      "    optimize : bool, default: False\n",
      "        Applicable only if *format* is 'jpg' or 'jpeg', ignored otherwise.\n",
      "    \n",
      "        Whether the encoder should make an extra pass over the image\n",
      "        in order to select optimal encoder settings.\n",
      "    \n",
      "        This parameter is deprecated.\n",
      "    \n",
      "    progressive : bool, default: False\n",
      "        Applicable only if *format* is 'jpg' or 'jpeg', ignored otherwise.\n",
      "    \n",
      "        Whether the image should be stored as a progressive JPEG file.\n",
      "    \n",
      "        This parameter is deprecated.\n",
      "    \n",
      "    facecolor : color or 'auto', default: :rc:`savefig.facecolor`\n",
      "        The facecolor of the figure.  If 'auto', use the current figure\n",
      "        facecolor.\n",
      "    \n",
      "    edgecolor : color or 'auto', default: :rc:`savefig.edgecolor`\n",
      "        The edgecolor of the figure.  If 'auto', use the current figure\n",
      "        edgecolor.\n",
      "    \n",
      "    orientation : {'landscape', 'portrait'}\n",
      "        Currently only supported by the postscript backend.\n",
      "    \n",
      "    papertype : str\n",
      "        One of 'letter', 'legal', 'executive', 'ledger', 'a0' through\n",
      "        'a10', 'b0' through 'b10'. Only supported for postscript\n",
      "        output.\n",
      "    \n",
      "    format : str\n",
      "        The file format, e.g. 'png', 'pdf', 'svg', ... The behavior when\n",
      "        this is unset is documented under *fname*.\n",
      "    \n",
      "    transparent : bool\n",
      "        If *True*, the axes patches will all be transparent; the\n",
      "        figure patch will also be transparent unless facecolor\n",
      "        and/or edgecolor are specified via kwargs.\n",
      "        This is useful, for example, for displaying\n",
      "        a plot on top of a colored background on a web page.  The\n",
      "        transparency of these patches will be restored to their\n",
      "        original values upon exit of this function.\n",
      "    \n",
      "    bbox_inches : str or `.Bbox`, default: :rc:`savefig.bbox`\n",
      "        Bounding box in inches: only the given portion of the figure is\n",
      "        saved.  If 'tight', try to figure out the tight bbox of the figure.\n",
      "    \n",
      "    pad_inches : float, default: :rc:`savefig.pad_inches`\n",
      "        Amount of padding around the figure when bbox_inches is 'tight'.\n",
      "    \n",
      "    bbox_extra_artists : list of `~matplotlib.artist.Artist`, optional\n",
      "        A list of extra artists that will be considered when the\n",
      "        tight bbox is calculated.\n",
      "    \n",
      "    backend : str, optional\n",
      "        Use a non-default backend to render the file, e.g. to render a\n",
      "        png file with the \"cairo\" backend rather than the default \"agg\",\n",
      "        or a pdf file with the \"pgf\" backend rather than the default\n",
      "        \"pdf\".  Note that the default backend is normally sufficient.  See\n",
      "        :ref:`the-builtin-backends` for a list of valid backends for each\n",
      "        file format.  Custom backends can be referenced as \"module://...\".\n",
      "    \n",
      "    metadata : dict, optional\n",
      "        Key/value pairs to store in the image metadata. The supported keys\n",
      "        and defaults depend on the image format and backend:\n",
      "    \n",
      "        - 'png' with Agg backend: See the parameter ``metadata`` of\n",
      "          `~.FigureCanvasAgg.print_png`.\n",
      "        - 'pdf' with pdf backend: See the parameter ``metadata`` of\n",
      "          `~.backend_pdf.PdfPages`.\n",
      "        - 'svg' with svg backend: See the parameter ``metadata`` of\n",
      "          `~.FigureCanvasSVG.print_svg`.\n",
      "        - 'eps' and 'ps' with PS backend: Only 'Creator' is supported.\n",
      "    \n",
      "    pil_kwargs : dict, optional\n",
      "        Additional keyword arguments that are passed to\n",
      "        `PIL.Image.Image.save` when saving the figure.\n",
      "\n"
     ]
    }
   ],
   "source": [
    "help(plt.savefig)"
   ]
  },
  {
   "cell_type": "code",
   "execution_count": null,
   "metadata": {},
   "outputs": [],
   "source": []
  }
 ],
 "metadata": {
  "kernelspec": {
   "display_name": "Python 3",
   "language": "python",
   "name": "python3"
  },
  "language_info": {
   "codemirror_mode": {
    "name": "ipython",
    "version": 3
   },
   "file_extension": ".py",
   "mimetype": "text/x-python",
   "name": "python",
   "nbconvert_exporter": "python",
   "pygments_lexer": "ipython3",
   "version": "3.8.5"
  }
 },
 "nbformat": 4,
 "nbformat_minor": 5
}
