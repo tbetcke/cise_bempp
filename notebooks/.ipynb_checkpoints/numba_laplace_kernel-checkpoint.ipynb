{
 "cells": [
  {
   "cell_type": "markdown",
   "id": "verified-helicopter",
   "metadata": {},
   "source": [
    "# The Laplace Greens function kernel in Numba."
   ]
  },
  {
   "cell_type": "markdown",
   "id": "extra-danish",
   "metadata": {},
   "source": [
    "This notebook implements the Laplace Greens functions $g(x, y) = \\frac{1}{4\\pi | x- y|}$ in Numba and tests its performance for single and double precision data. Here, the x-variable denotes a target and the y-variable denotes a source."
   ]
  },
  {
   "cell_type": "markdown",
   "id": "criminal-metadata",
   "metadata": {},
   "source": [
    "We need the usual imports."
   ]
  },
  {
   "cell_type": "code",
   "execution_count": 1,
   "id": "champion-danish",
   "metadata": {},
   "outputs": [],
   "source": [
    "import numpy as np\n",
    "import numba"
   ]
  },
  {
   "cell_type": "markdown",
   "id": "figured-starter",
   "metadata": {},
   "source": [
    "The following code defines two different Numba implementations. The first one iterates across its most-inner for loop across a whole row of source points. The second one evaluates in its most-inner loop the norm $|x-y|$."
   ]
  },
  {
   "cell_type": "code",
   "execution_count": 143,
   "id": "limited-theory",
   "metadata": {},
   "outputs": [],
   "source": [
    "M_INV_4PI = 1. / (4 * np.pi)\n",
    "\n",
    "@numba.njit(parallel=True, error_model=\"numpy\", fastmath=True)\n",
    "def numba_assemble_laplace_single_layer_row_wise(\n",
    "    targets, sources, output\n",
    "  ):\n",
    "    \"\"\"Evaluate Laplace single layer row-wise.\"\"\"\n",
    "    nsources = sources.shape[1]\n",
    "    ntargets = targets.shape[1]\n",
    "    dtype = sources.dtype\n",
    "    m_inv_4pi = dtype.type(M_INV_4PI)\n",
    "    zero = dtype.type(0)\n",
    "    for target_index in numba.prange(ntargets):\n",
    "        squared_diff = np.zeros(ntargets, dtype=dtype)\n",
    "        for i in range(3):\n",
    "            for source_index in range(nsources):\n",
    "                squared_diff[source_index] += (sources[i, source_index] - targets[i, target_index]) ** 2\n",
    "        for source_index in range(nsources):\n",
    "            output[target_index, source_index] = m_inv_4pi / np.sqrt(squared_diff[source_index])\n",
    "        for source_index in range(nsources):\n",
    "            if squared_diff[source_index] == zero:\n",
    "                output[target_index, source_index] = 0\n",
    "                \n",
    "@numba.njit(parallel=True, fastmath=True, error_model=\"numpy\")\n",
    "def numba_assemble_laplace_single_layer_point_wise(targets, sources, output):\n",
    "    \"Evaluate the Laplace single layer point-wise.\"\n",
    "    nsources = sources.shape[1]\n",
    "    ntargets = targets.shape[1]\n",
    "    dtype = sources.dtype\n",
    "    m_inv_4pi = dtype.type(M_INV_4PI)\n",
    "    zero = dtype.type(0)\n",
    "    for target_index in numba.prange(ntargets):\n",
    "        target = targets[:, target_index]\n",
    "        for source_index in range(nsources):\n",
    "            source = sources[:, source_index]\n",
    "            squared_diff = (source[0] - target[0])**2 + (source[1] - target[1])**2 + (source[2] - target[2])**2\n",
    "            output[target_index, source_index] = zero if squared_diff == zero else m_inv_4pi / np.sqrt(squared_diff)"
   ]
  },
  {
   "cell_type": "markdown",
   "id": "pretty-shuttle",
   "metadata": {},
   "source": [
    "The following defines the points and creates the output array."
   ]
  },
  {
   "cell_type": "code",
   "execution_count": 144,
   "id": "improving-radical",
   "metadata": {},
   "outputs": [],
   "source": [
    "npoints = 20000\n",
    "dtype = np.float32\n",
    "points = np.random.randn(3, npoints).astype(dtype)\n",
    "output_row_wise = np.empty((npoints, npoints), dtype=dtype)\n",
    "output_point_wise = np.empty((npoints, npoints), dtype=dtype)"
   ]
  },
  {
   "cell_type": "markdown",
   "id": "comparable-telescope",
   "metadata": {},
   "source": [
    "We can now time the two implementations.\n",
    "\n",
    "First the row-wise version."
   ]
  },
  {
   "cell_type": "code",
   "execution_count": 145,
   "id": "indoor-plaza",
   "metadata": {},
   "outputs": [
    {
     "name": "stdout",
     "output_type": "stream",
     "text": [
      "255 ms ± 11.5 ms per loop (mean ± std. dev. of 7 runs, 1 loop each)\n"
     ]
    }
   ],
   "source": [
    "%%timeit\n",
    "\n",
    "numba_assemble_laplace_single_layer_row_wise(points, points, output_row_wise)"
   ]
  },
  {
   "cell_type": "markdown",
   "id": "polished-masters",
   "metadata": {},
   "source": [
    "Now the point-wise version."
   ]
  },
  {
   "cell_type": "code",
   "execution_count": 146,
   "id": "smoking-victor",
   "metadata": {},
   "outputs": [
    {
     "name": "stdout",
     "output_type": "stream",
     "text": [
      "146 ms ± 2.5 ms per loop (mean ± std. dev. of 7 runs, 1 loop each)\n"
     ]
    }
   ],
   "source": [
    "%%timeit\n",
    "\n",
    "numba_assemble_laplace_single_layer_point_wise(points, points, output_point_wise)"
   ]
  },
  {
   "cell_type": "markdown",
   "id": "solid-directive",
   "metadata": {},
   "source": [
    "Check that the two methods agree"
   ]
  },
  {
   "cell_type": "code",
   "execution_count": 147,
   "id": "opposite-walker",
   "metadata": {},
   "outputs": [],
   "source": [
    "numba_assemble_laplace_single_layer_row_wise(points, points, output_row_wise)\n",
    "numba_assemble_laplace_single_layer_point_wise(points, points, output_point_wise)\n",
    "error = np.linalg.norm(output_row_wise - output_point_wise, np.inf)"
   ]
  }
 ],
 "metadata": {
  "kernelspec": {
   "display_name": "Python [conda env:dev]",
   "language": "python",
   "name": "conda-env-dev-py"
  },
  "language_info": {
   "codemirror_mode": {
    "name": "ipython",
    "version": 3
   },
   "file_extension": ".py",
   "mimetype": "text/x-python",
   "name": "python",
   "nbconvert_exporter": "python",
   "pygments_lexer": "ipython3",
   "version": "3.9.2"
  }
 },
 "nbformat": 4,
 "nbformat_minor": 5
}
